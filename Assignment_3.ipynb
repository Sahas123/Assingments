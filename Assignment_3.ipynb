{
  "nbformat": 4,
  "nbformat_minor": 0,
  "metadata": {
    "colab": {
      "name": "Assignment 3",
      "provenance": []
    },
    "kernelspec": {
      "name": "python3",
      "display_name": "Python 3"
    },
    "language_info": {
      "name": "python"
    }
  },
  "cells": [
    {
      "cell_type": "code",
      "metadata": {
        "id": "fgWWLMCNbk1H"
      },
      "source": [
        ""
      ],
      "execution_count": null,
      "outputs": []
    },
    {
      "cell_type": "markdown",
      "metadata": {
        "id": "_H_glH5Fb-La"
      },
      "source": [
        "1. Write a program which accepts a sequence of comma-separated numbers from console  and generate a list. "
      ]
    },
    {
      "cell_type": "code",
      "metadata": {
        "colab": {
          "base_uri": "https://localhost:8080/"
        },
        "id": "VUHorcq1b_fV",
        "outputId": "28e5f482-ed73-4b4b-bf31-2b91d0b30820"
      },
      "source": [
        "UserInput=[]\n",
        "for n in range (3):\n",
        "  value=input()\n",
        "  UserInput.append(value)\n",
        "print(UserInput)\n",
        "\n",
        "\n",
        "\n"
      ],
      "execution_count": null,
      "outputs": [
        {
          "output_type": "stream",
          "name": "stdout",
          "text": [
            "4\n",
            "4\n",
            "4\n",
            "['4', '4', '4']\n"
          ]
        }
      ]
    },
    {
      "cell_type": "markdown",
      "metadata": {
        "id": "Qinsi1XCgcfz"
      },
      "source": [
        "2. Create the below pattern using nested for loop in Python. \n"
      ]
    },
    {
      "cell_type": "code",
      "metadata": {
        "id": "lvnhfWFPgkTO"
      },
      "source": [
        ""
      ],
      "execution_count": null,
      "outputs": []
    },
    {
      "cell_type": "markdown",
      "metadata": {
        "id": "YJsPnNnZb9D_"
      },
      "source": [
        ""
      ]
    },
    {
      "cell_type": "code",
      "metadata": {
        "colab": {
          "base_uri": "https://localhost:8080/"
        },
        "id": "0uC-iVuDb8Wf",
        "outputId": "f066d960-3dae-492b-9055-6e21342e18e5"
      },
      "source": [
        "list=[1,2,3,4,5]\n",
        "\n",
        "for f in list:\n",
        "  print(\"*\"*f)\n",
        "for n in list[::-1]:\n",
        "  print(\"*\"*n)"
      ],
      "execution_count": 1,
      "outputs": [
        {
          "output_type": "stream",
          "name": "stdout",
          "text": [
            "*\n",
            "**\n",
            "***\n",
            "****\n",
            "*****\n",
            "*****\n",
            "****\n",
            "***\n",
            "**\n",
            "*\n"
          ]
        }
      ]
    },
    {
      "cell_type": "markdown",
      "metadata": {
        "id": "cdSms7l8i6VI"
      },
      "source": [
        "3. Write a Python program to reverse a word after accepting the input from the user. "
      ]
    },
    {
      "cell_type": "code",
      "metadata": {
        "colab": {
          "base_uri": "https://localhost:8080/"
        },
        "id": "fdyvwmmdi793",
        "outputId": "5838ac62-3e0a-4b7b-efbb-03efe5c0f52e"
      },
      "source": [
        "userdata=input()\n",
        "print(userdata[::-1])"
      ],
      "execution_count": null,
      "outputs": [
        {
          "output_type": "stream",
          "name": "stdout",
          "text": [
            "inueron\n",
            "noreuni\n"
          ]
        }
      ]
    }
  ]
}