
        "1. Write a program which will find all such numbers which are divisible by 7 but are not a multiple of 5, between 2000 and 3200 (both included). The numbers obtained should be printed  in a comma-separated sequence on a single line. "
      ]
    },
    {
      "cell_type": "code",
      "metadata": {
        "id": "B3HxY0DuIMaG",
        "colab": {
          "base_uri": "https://localhost:8080/"
        },
        "outputId": "5f965d02-f1cd-4547-c94b-bad67acd425a"
      },
      "source": [
        "for a in range(2000,3201):\n",
        "  if ( a%7==0) and not (a%5==0):\n",
        "    print(a,end=\",\")\n",
        "  \n",
        "  \n",
        "\n"
      ],
      "execution_count": 10,
      "outputs": [
        {
          "output_type": "stream",
          "name": "stdout",
          "text": [
            "2002,2009,2016,2023,2037,2044,2051,2058,2072,2079,2086,2093,2107,2114,2121,2128,2142,2149,2156,2163,2177,2184,2191,2198,2212,2219,2226,2233,2247,2254,2261,2268,2282,2289,2296,2303,2317,2324,2331,2338,2352,2359,2366,2373,2387,2394,2401,2408,2422,2429,2436,2443,2457,2464,2471,2478,2492,2499,2506,2513,2527,2534,2541,2548,2562,2569,2576,2583,2597,2604,2611,2618,2632,2639,2646,2653,2667,2674,2681,2688,2702,2709,2716,2723,2737,2744,2751,2758,2772,2779,2786,2793,2807,2814,2821,2828,2842,2849,2856,2863,2877,2884,2891,2898,2912,2919,2926,2933,2947,2954,2961,2968,2982,2989,2996,3003,3017,3024,3031,3038,3052,3059,3066,3073,3087,3094,3101,3108,3122,3129,3136,3143,3157,3164,3171,3178,3192,3199,"
          ]
        }
      ]
    },
    {
      "cell_type": "markdown",
      "metadata": {
        "id": "zc7u6HDqP2qu"
      },
      "source": [
        "2. Write a Python program to accept the user's first and last name and then getting them printed in the the reverse order with a space between first name and last name. "
      ]
    },
    {
      "cell_type": "code",
      "metadata": {
        "id": "wKvNOW8rP6cN",
        "colab": {
          "base_uri": "https://localhost:8080/"
        },
        "outputId": "aa57ed6d-601f-4c04-f6b6-590b2cc410c6"
      },
      "source": [
        "Firstname=input()\n",
        "Lastname=input()\n",
        "Firstname=Firstname[::-1]\n",
        "Lastname=Lastname[::-1]\n",
        "print(Firstname+\" \"+Lastname)"
      ],
      "execution_count": null,
      "outputs": [
        {
          "output_type": "stream",
          "name": "stdout",
          "text": [
            "virat\n",
            "kohli\n",
            "tariv ilhok\n"
          ]
        }
      ]
    },
    {
      "cell_type": "markdown",
      "metadata": {
        "id": "htop-DgwQzBU"
      },
      "source": [
        "3. Write a Python program to find the volume of a sphere with diameter 12 cm.Formula: V=4/3 * π * r 3"
      ]
    },
    {
      "cell_type": "code",
      "metadata": {
        "id": "rp18Md5HQ0CB",
        "colab": {
          "base_uri": "https://localhost:8080/"
        },
        "outputId": "86d38b10-06c4-4d55-d112-3cab46fa3995"
      },
      "source": [
        "V=4/3 * 3.14 * 6**3\n",
        "print(V)"
      ],
      "execution_count": null,
      "outputs": [
        {
          "output_type": "stream",
          "name": "stdout",
          "text": [
            "904.3199999999999\n"
          ]
        }
      ]
    },
    {
      "cell_type": "code",
      "metadata": {
        "id": "ZXVvnC9_Raz6",
        "colab": {
          "base_uri": "https://localhost:8080/"
        },
        "outputId": "e5c128f4-cd1a-4dd9-92d5-dd78ed6fbe3b"
      },
      "source": [
        "6**3"
      ],
      "execution_count": null,
      "outputs": [
        {
          "output_type": "execute_result",
          "data": {
            "text/plain": [
              "216"
            ]
          },
          "metadata": {},
          "execution_count": 41
        }
      ]
    }
  ]
}
