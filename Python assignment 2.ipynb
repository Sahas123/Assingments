{
 "cells": [
  {
   "cell_type": "code",
   "execution_count": 1,
   "metadata": {},
   "outputs": [
    {
     "name": "stdout",
     "output_type": "stream",
     "text": [
      "*\n",
      "**\n",
      "***\n",
      "****\n",
      "*****\n",
      "****\n",
      "***\n",
      "**\n",
      "*\n"
     ]
    }
   ],
   "source": [
    "#Create the below pattern using nested for loop in Python.\n",
    "for i in range(1):\n",
    "    print ('*')\n",
    "    for i in range(1):\n",
    "            print ('**')\n",
    "            for i in range(1):\n",
    "                print ('***')\n",
    "                for i in range(1):\n",
    "                    print ('****')\n",
    "                    for i in range(1):\n",
    "                        print ('*****')\n",
    "                        for i in range(1):\n",
    "                                print ('****')\n",
    "                                for i in range(1):\n",
    "                                    print ('***')\n",
    "                                    for i in range(1):\n",
    "                                        print ('**')\n",
    "                                        for i in range(1):\n",
    "                                                print ('*')\n",
    "                            \n",
    "    \n",
    "    "
   ]
  },
  {
   "cell_type": "code",
   "execution_count": 2,
   "metadata": {},
   "outputs": [
    {
     "name": "stdout",
     "output_type": "stream",
     "text": [
      "Enter the value:virat\n",
      "tariv\n"
     ]
    }
   ],
   "source": [
    "#Write a Python program to reverse a word after accepting the input from the user.\n",
    "\n",
    "user_data=input(\"Enter the value:\")\n",
    "print(user_data[::-1])\n"
   ]
  }
 ],
 "metadata": {
  "kernelspec": {
   "display_name": "Python 3",
   "language": "python",
   "name": "python3"
  },
  "language_info": {
   "codemirror_mode": {
    "name": "ipython",
    "version": 3
   },
   "file_extension": ".py",
   "mimetype": "text/x-python",
   "name": "python",
   "nbconvert_exporter": "python",
   "pygments_lexer": "ipython3",
   "version": "3.7.4"
  }
 },
 "nbformat": 4,
 "nbformat_minor": 2
}
